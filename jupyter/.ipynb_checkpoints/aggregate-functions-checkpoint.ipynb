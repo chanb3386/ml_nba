{
 "cells": [
  {
   "cell_type": "code",
   "execution_count": 5,
   "metadata": {},
   "outputs": [
    {
     "data": {
      "text/plain": [
       "Rk       1.000\n",
       "G       26.000\n",
       "MP     241.000\n",
       "FG      37.500\n",
       "FGA     86.800\n",
       "FG%      0.432\n",
       "3P      11.800\n",
       "3PA     34.900\n",
       "3P%      0.339\n",
       "2P      25.700\n",
       "2PA     51.900\n",
       "2P%      0.495\n",
       "FT      16.700\n",
       "FTA     22.500\n",
       "FT%      0.742\n",
       "ORB     10.900\n",
       "DRB     34.600\n",
       "TRB     45.500\n",
       "AST     22.700\n",
       "STL      6.400\n",
       "BLK      5.600\n",
       "TOV     16.200\n",
       "PF      21.100\n",
       "PTS    103.600\n",
       "Name: Boston Celtics, dtype: float64"
      ]
     },
     "execution_count": 5,
     "metadata": {},
     "output_type": "execute_result"
    }
   ],
   "source": [
    "import pandas as pd\n",
    "a = pd.read_csv(\"../data/team-player-stats/bucks.txt\", index_col=1)\n",
    "b = pd.read_csv(\"../data/league-stats/opponent-stats.txt\", index_col=1)\n",
    "b.loc['Boston Celtics']"
   ]
  },
  {
   "cell_type": "code",
   "execution_count": null,
   "metadata": {},
   "outputs": [],
   "source": []
  },
  {
   "cell_type": "code",
   "execution_count": null,
   "metadata": {},
   "outputs": [],
   "source": []
  }
 ],
 "metadata": {
  "kernelspec": {
   "display_name": "Python 3",
   "language": "python",
   "name": "python3"
  },
  "language_info": {
   "codemirror_mode": {
    "name": "ipython",
    "version": 3
   },
   "file_extension": ".py",
   "mimetype": "text/x-python",
   "name": "python",
   "nbconvert_exporter": "python",
   "pygments_lexer": "ipython3",
   "version": "3.7.4"
  }
 },
 "nbformat": 4,
 "nbformat_minor": 2
}
